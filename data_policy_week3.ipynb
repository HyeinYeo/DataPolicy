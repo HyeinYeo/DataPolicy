{
  "nbformat": 4,
  "nbformat_minor": 0,
  "metadata": {
    "colab": {
      "provenance": [],
      "authorship_tag": "ABX9TyPGJoZbp8u3jJSdiD33AQV6",
      "include_colab_link": true
    },
    "kernelspec": {
      "name": "python3",
      "display_name": "Python 3"
    },
    "language_info": {
      "name": "python"
    }
  },
  "cells": [
    {
      "cell_type": "markdown",
      "metadata": {
        "id": "view-in-github",
        "colab_type": "text"
      },
      "source": [
        "<a href=\"https://colab.research.google.com/github/HyeinYeo/DataPolicy/blob/main/data_policy_week3.ipynb\" target=\"_parent\"><img src=\"https://colab.research.google.com/assets/colab-badge.svg\" alt=\"Open In Colab\"/></a>"
      ]
    },
    {
      "cell_type": "markdown",
      "source": [
        "# **빅데이터와 증거기반 정책 3주차**\n",
        "\n",
        "## **TIL**\n",
        "1. Colab 사용법\n",
        "2. 변수와 객체\n",
        "3. 기본 자료형\n",
        "4. 그룹 자료형\n",
        "5. 문자열 연산\n",
        "6. 리스트\n",
        "7. 튜플\n",
        "8. 딕셔너리\n",
        "9. 집합\n",
        "---"
      ],
      "metadata": {
        "id": "LKRm94y_fq8R"
      }
    },
    {
      "cell_type": "markdown",
      "source": [
        "## **1. Colab 사용법**"
      ],
      "metadata": {
        "id": "B9yFJvxpr7eD"
      }
    },
    {
      "cell_type": "code",
      "execution_count": null,
      "metadata": {
        "id": "_xKPWuAHIQsw",
        "colab": {
          "base_uri": "https://localhost:8080/"
        },
        "outputId": "5b27bc0c-4bfc-49c5-e38b-75c2f67cb9f1"
      },
      "outputs": [
        {
          "output_type": "execute_result",
          "data": {
            "text/plain": [
              "86400"
            ]
          },
          "metadata": {},
          "execution_count": 31
        }
      ],
      "source": [
        "# 코드 셀\n",
        "seconds_in_a_day = 24 * 60 * 60\n",
        "seconds_in_a_day"
      ]
    },
    {
      "cell_type": "code",
      "source": [
        "print(seconds_in_a_day)"
      ],
      "metadata": {
        "colab": {
          "base_uri": "https://localhost:8080/"
        },
        "id": "8fcmAEeMsMjx",
        "outputId": "0d359b35-fe45-469c-d9f2-a5952d7e1c5f"
      },
      "execution_count": null,
      "outputs": [
        {
          "output_type": "stream",
          "name": "stdout",
          "text": [
            "86400\n"
          ]
        }
      ]
    },
    {
      "cell_type": "code",
      "source": [
        "print('Hello World')"
      ],
      "metadata": {
        "colab": {
          "base_uri": "https://localhost:8080/"
        },
        "id": "idRWJZjwtkVw",
        "outputId": "2e3f672a-4727-4031-ddba-ab2d196a2a1b"
      },
      "execution_count": null,
      "outputs": [
        {
          "output_type": "stream",
          "name": "stdout",
          "text": [
            "Hello World\n"
          ]
        }
      ]
    },
    {
      "cell_type": "markdown",
      "source": [
        "## **2. 변수와 객체**\n",
        "- 변수에 들어갈 수 있는 자료형: 숫자, 문자, 문자열, 리스트, 집합, 딕셔너리\n",
        "- 변수에 바인딩할 수 있는 메모리 크기를 넉넉하게 잡음(자료형 선언 X, 동적 타입핑)\n",
        "\n",
        "- 변수가 객체가 됨"
      ],
      "metadata": {
        "id": "SCIwuTA6sqvn"
      }
    },
    {
      "cell_type": "code",
      "source": [
        "a = 1 + 2j # 1 + 2j의 복소수 값을 가진 변수 a를 생성하라 -> a는 복소수 객체 참조하는 변수"
      ],
      "metadata": {
        "id": "si9SHKkgvmVM"
      },
      "execution_count": null,
      "outputs": []
    },
    {
      "cell_type": "code",
      "source": [
        "a.real # 실수부 -> 복소수 객체의 멤버변수(property)"
      ],
      "metadata": {
        "colab": {
          "base_uri": "https://localhost:8080/"
        },
        "id": "eMEcUiobvyOE",
        "outputId": "bf1c4dbc-84da-4690-9581-880fab7d229f"
      },
      "execution_count": null,
      "outputs": [
        {
          "output_type": "execute_result",
          "data": {
            "text/plain": [
              "1.0"
            ]
          },
          "metadata": {},
          "execution_count": 35
        }
      ]
    },
    {
      "cell_type": "code",
      "source": [
        "a.conjugate() # 공액 복소수(허수부 부호 변경) -> 복소수 객체의 메소드"
      ],
      "metadata": {
        "colab": {
          "base_uri": "https://localhost:8080/"
        },
        "id": "9N6ocQYFv_51",
        "outputId": "2be789bf-d0e7-4759-aaf4-6809982d2a65"
      },
      "execution_count": null,
      "outputs": [
        {
          "output_type": "execute_result",
          "data": {
            "text/plain": [
              "(1-2j)"
            ]
          },
          "metadata": {},
          "execution_count": 36
        }
      ]
    },
    {
      "cell_type": "markdown",
      "source": [
        "## **3. 기본 자료형**\n",
        "### 1) 숫자형\n",
        "- 정수\n",
        "- 실수\n",
        "- 복소수\n",
        "- 8진수 -> 0O, 0o\n",
        "- 16진수 -> 0x, 0X\n",
        "\n",
        "### 2) 논리형\n",
        "- True, False\n",
        "\n",
        "### 3) 숫자형 연산\n",
        "- 사칙연산 + - * /\n",
        "- 나머지 연산 %\n",
        "- 지수승 연산: **\n",
        "- 나눗셈 몫 구하기: //\n",
        "\n"
      ],
      "metadata": {
        "id": "Y--XMiEGs6HA"
      }
    },
    {
      "cell_type": "markdown",
      "source": [
        "## **4. 그룹 자료형**\n",
        "### 1) 문자열\n",
        "- 각 문자를 인덱스를 이용해 조회 가능\n",
        "- 음수 인덱스 가능(뒤에서부터)\n",
        "- 슬라이싱 가능 -> 범위에 주의!\n",
        "\n",
        "### 2) 리스트\n",
        "### 3) 튜플\n",
        "- 요소 변경 불가\n",
        "- 리스트보다 메모리 효율성 좋음\n",
        "\n",
        "### 4) 딕셔너리\n",
        "### 5) 집합"
      ],
      "metadata": {
        "id": "U6TJ45uls6j5"
      }
    },
    {
      "cell_type": "code",
      "source": [
        "# 문자열\n",
        "s1 = \"Now is better than never\"\n",
        "s2 = \"\"\"\n",
        "Hello\n",
        "Python\n",
        "\"\"\"\n",
        "print(s1, s2)"
      ],
      "metadata": {
        "colab": {
          "base_uri": "https://localhost:8080/"
        },
        "id": "CQxs_TMF5mfX",
        "outputId": "3f51cba2-e43a-40cb-a033-e68110d698d0"
      },
      "execution_count": null,
      "outputs": [
        {
          "output_type": "stream",
          "name": "stdout",
          "text": [
            "Now is better than never \n",
            "Hello\n",
            "Python\n",
            "\n"
          ]
        }
      ]
    },
    {
      "cell_type": "code",
      "source": [
        "# 문자열 인덱싱 가능\n",
        "s1[1]"
      ],
      "metadata": {
        "colab": {
          "base_uri": "https://localhost:8080/",
          "height": 36
        },
        "id": "P_NnIPnL55Xi",
        "outputId": "d47da64d-061e-4a6c-be68-74777f9603b0"
      },
      "execution_count": null,
      "outputs": [
        {
          "output_type": "execute_result",
          "data": {
            "text/plain": [
              "'o'"
            ],
            "application/vnd.google.colaboratory.intrinsic+json": {
              "type": "string"
            }
          },
          "metadata": {},
          "execution_count": 42
        }
      ]
    },
    {
      "cell_type": "code",
      "source": [
        "# 문자열 슬라이싱\n",
        "s1[:-1]"
      ],
      "metadata": {
        "colab": {
          "base_uri": "https://localhost:8080/",
          "height": 36
        },
        "id": "qYz1o-Ib6Vja",
        "outputId": "9bc3a9b2-7723-47e4-bb4d-b1f6c7ee7ee8"
      },
      "execution_count": null,
      "outputs": [
        {
          "output_type": "execute_result",
          "data": {
            "text/plain": [
              "'Now is better than neve'"
            ],
            "application/vnd.google.colaboratory.intrinsic+json": {
              "type": "string"
            }
          },
          "metadata": {},
          "execution_count": 43
        }
      ]
    },
    {
      "cell_type": "markdown",
      "source": [
        "## **5. 문자열 연산**\n",
        "- 연결 `+`\n",
        "- 곱하기 `*(숫자)`\n",
        "- 인덱싱 `[]` -> 음수 인덱스 가능\n",
        "- 슬라이싱 `[:]` -> 범위 주의, 앞뒤 생략하면 앞 또는 뒤 끝까지\n",
        "- 문자 개수 계산 `.count('문자')`\n",
        "- 문자 위치 확인(문자의 위치 인덱스 출력)\n",
        "  - `.find()` : 문자 없으면 -1 반환\n",
        "  - `.index()` : 문자 없으면 에러 메시지 출력\n",
        "- 문자 삽입 `'구분자'.join(리스트)` -> 리스트 요소들 사이에 구분자 넣어서 문자열로 반환\n",
        "- 대문자 변환 `.upper()`\n",
        "- 소문자 변환 `.lower()`\n",
        "- 공백 제거 `.lstrip()`, `.rstrip()`, `.strip()`\n",
        "- 문자열 바꾸기 `.replace(src, dest)` -> 대체한 새 문자열을 반환\n",
        "- 문자열 나누기 `.split('구분자')` -> 리스트로 반환\n",
        "\n",
        "\n",
        "⚠️ **문자열 수정은 불가능!!!!!**\n",
        "\n"
      ],
      "metadata": {
        "id": "keUAr5Rrs6pB"
      }
    },
    {
      "cell_type": "code",
      "source": [
        "# .join()\n",
        "b = ','\n",
        "c = b.join('Abcd')\n",
        "print(c)"
      ],
      "metadata": {
        "colab": {
          "base_uri": "https://localhost:8080/"
        },
        "id": "dctNaaF681ZO",
        "outputId": "d6325305-5be1-443f-a6d2-dad472ec9f59"
      },
      "execution_count": null,
      "outputs": [
        {
          "output_type": "stream",
          "name": "stdout",
          "text": [
            "A,b,c,d\n"
          ]
        }
      ]
    },
    {
      "cell_type": "code",
      "source": [
        "# .replace() 대체한 새 문자열을 반환\n",
        "s4 = 'Hello'\n",
        "s5 = s4.replace('H', 'k') # 재할당해주지 않으면 원래 문자열이 바뀌지 않음\n",
        "print(s4, s5)"
      ],
      "metadata": {
        "colab": {
          "base_uri": "https://localhost:8080/"
        },
        "id": "4_0oZQzt-NAU",
        "outputId": "9570b6b1-a3db-4add-f8b0-f932fe3a6407"
      },
      "execution_count": null,
      "outputs": [
        {
          "output_type": "stream",
          "name": "stdout",
          "text": [
            "Hello kello\n"
          ]
        }
      ]
    },
    {
      "cell_type": "markdown",
      "source": [
        "## **6. 리스트**\n",
        "- 리스트 생성\n",
        "  - `[]`, `list()`\n",
        "  - 중첩 리스트 가능\n",
        "- 인덱싱\n",
        "- 슬라이싱\n",
        "- 연결 `+`\n",
        "- 반복 `*`\n",
        "- 삭제 `del`\n",
        "- 원소 추가 `.append()`\n",
        "- 원소 정렬\n",
        "  - `lst.sort()`\n",
        "  - `sorted(lst)` -> 리스트 자체가 바뀌는 게 아님(재할당 해줘야 함)\n",
        "- 원소 순서 뒤집기 `.reverse()`\n",
        "- 원소 위치 확인 `.index()`\n",
        "- 원소 삽입 `.insert(idx, x)`\n",
        "- 원소 삭제\n",
        "  - `.remove(x)`\n",
        "  - `.pop()`, `.pop(idx)`\n",
        "- 특정 원소 개수 `.count(x)`"
      ],
      "metadata": {
        "id": "O61bg1pcs6uc"
      }
    },
    {
      "cell_type": "code",
      "source": [
        "# .sort() 리스트는 아예 순서 자체가 바뀜\n",
        "lst = [3, 1, 5]\n",
        "lst.sort()\n",
        "print(lst)"
      ],
      "metadata": {
        "colab": {
          "base_uri": "https://localhost:8080/"
        },
        "id": "OlzrAgK9-FRf",
        "outputId": "478010ff-18c4-4cd0-bba8-84f7739fa990"
      },
      "execution_count": null,
      "outputs": [
        {
          "output_type": "stream",
          "name": "stdout",
          "text": [
            "[1, 3, 5]\n"
          ]
        }
      ]
    },
    {
      "cell_type": "code",
      "source": [
        "# .reverse()\n",
        "lst2 = [1, 2, 3]\n",
        "lst2.reverse()\n",
        "print(lst2)"
      ],
      "metadata": {
        "colab": {
          "base_uri": "https://localhost:8080/"
        },
        "id": "hrMtIhppB97O",
        "outputId": "687c2098-e8a7-4013-951b-d524b5e9406b"
      },
      "execution_count": null,
      "outputs": [
        {
          "output_type": "stream",
          "name": "stdout",
          "text": [
            "[3, 2, 1]\n"
          ]
        }
      ]
    },
    {
      "cell_type": "markdown",
      "source": [
        "## **7. 튜플**\n",
        "- 튜플 생성\n",
        "  - `()`, `tuple()`\n",
        "  - 중첩 튜플 가능\n",
        "- 인덱싱\n",
        "- 슬라이싱\n",
        "- 연결\n",
        "- 반복\n",
        "\n",
        "⚠️ **튜플은 원소 수정 불가능!**"
      ],
      "metadata": {
        "id": "HJZ-Az7Js607"
      }
    },
    {
      "cell_type": "code",
      "source": [
        "t1 = (1, 2, 3)"
      ],
      "metadata": {
        "id": "017Eno95s1nq"
      },
      "execution_count": null,
      "outputs": []
    },
    {
      "cell_type": "code",
      "source": [
        "t1[0] = 5 # 이건 불가능"
      ],
      "metadata": {
        "colab": {
          "base_uri": "https://localhost:8080/",
          "height": 144
        },
        "id": "yBnCmmf9_yMS",
        "outputId": "16091b79-d5d6-46ec-9da0-6951d3a123b3"
      },
      "execution_count": null,
      "outputs": [
        {
          "output_type": "error",
          "ename": "TypeError",
          "evalue": "'tuple' object does not support item assignment",
          "traceback": [
            "\u001b[0;31m---------------------------------------------------------------------------\u001b[0m",
            "\u001b[0;31mTypeError\u001b[0m                                 Traceback (most recent call last)",
            "\u001b[0;32m<ipython-input-52-2ca8cc21d11b>\u001b[0m in \u001b[0;36m<cell line: 0>\u001b[0;34m()\u001b[0m\n\u001b[0;32m----> 1\u001b[0;31m \u001b[0mt1\u001b[0m\u001b[0;34m[\u001b[0m\u001b[0;36m0\u001b[0m\u001b[0;34m]\u001b[0m \u001b[0;34m=\u001b[0m \u001b[0;36m5\u001b[0m \u001b[0;31m# 이건 불가능\u001b[0m\u001b[0;34m\u001b[0m\u001b[0;34m\u001b[0m\u001b[0m\n\u001b[0m",
            "\u001b[0;31mTypeError\u001b[0m: 'tuple' object does not support item assignment"
          ]
        }
      ]
    },
    {
      "cell_type": "code",
      "source": [
        "t1 = (5, 2, 3) # 이건 가능"
      ],
      "metadata": {
        "id": "g2h8n86S_3Ey"
      },
      "execution_count": null,
      "outputs": []
    },
    {
      "cell_type": "markdown",
      "source": [
        "## **8. 딕셔너리**\n",
        "- 생성\n",
        "  - `{}`, `dict()`\n",
        "- 원소 삭제 `del`\n",
        "- 원소 valuse 구하기\n",
        "- key 리스트 만들기 `.keys()`\n",
        "- value 리스트 만들기 `.values()`\n",
        "- key, value 쌍 구하기 `.items()`\n",
        "- 원소 전체 삭제 `.clear()`"
      ],
      "metadata": {
        "id": "EmNpkPG6tGQx"
      }
    },
    {
      "cell_type": "code",
      "source": [
        "# 원소 삭제\n",
        "dic2 = {'name':'pey', 'phone':'0119993323', 'birth': '1118'}\n",
        "del dic2['name']\n",
        "dic2"
      ],
      "metadata": {
        "colab": {
          "base_uri": "https://localhost:8080/"
        },
        "id": "xQUw7SwaAmtJ",
        "outputId": "2db25d3b-b5fa-4a5f-cf9e-9df9b3279b36"
      },
      "execution_count": null,
      "outputs": [
        {
          "output_type": "execute_result",
          "data": {
            "text/plain": [
              "{'phone': '0119993323', 'birth': '1118'}"
            ]
          },
          "metadata": {},
          "execution_count": 56
        }
      ]
    },
    {
      "cell_type": "markdown",
      "source": [
        "## **9. 집합**\n",
        "- 생성 `set()`\n",
        "- 교집합 `&`, `A.intersection(B)`\n",
        "- 합집합 `|`, `A.union(B)`\n",
        "- 차집합 `-`, `A.difference(B)`\n",
        "- 원소 1개 추가 `.add(x)`\n",
        "- 원소 여러 개 추가 `.update([원소 리스트])`\n",
        "- 특정 원소 제거 `.remove(x)`"
      ],
      "metadata": {
        "id": "-9VvUEIGtGcj"
      }
    },
    {
      "cell_type": "markdown",
      "source": [
        "---\n",
        "## **연습문제**"
      ],
      "metadata": {
        "id": "U7QhOsUprjBP"
      }
    },
    {
      "cell_type": "code",
      "source": [
        "# 01\n",
        "str = '20201231Thursday'\n",
        "year = str[:4]\n",
        "mmdd = str[4:8]\n",
        "day = str[8:]\n",
        "print(year, mmdd, day)"
      ],
      "metadata": {
        "colab": {
          "base_uri": "https://localhost:8080/"
        },
        "id": "GWQqqAXDpcvh",
        "outputId": "7dd05467-b9f6-4477-bc16-df1668244f70"
      },
      "execution_count": null,
      "outputs": [
        {
          "output_type": "stream",
          "name": "stdout",
          "text": [
            "2020 1231 Thursday\n"
          ]
        }
      ]
    },
    {
      "cell_type": "code",
      "source": [
        "# 02\n",
        "a = ['쓰', '레', '기', '통']\n",
        "a.reverse()\n",
        "a # 결과: ['통', '기', '레', '쓰']"
      ],
      "metadata": {
        "colab": {
          "base_uri": "https://localhost:8080/"
        },
        "id": "fbIZlDujttFh",
        "outputId": "b6eeceb3-38c1-4be9-9aa8-71833a6d3c6c"
      },
      "execution_count": null,
      "outputs": [
        {
          "output_type": "execute_result",
          "data": {
            "text/plain": [
              "['통', '기', '레', '쓰']"
            ]
          },
          "metadata": {},
          "execution_count": 11
        }
      ]
    },
    {
      "cell_type": "code",
      "source": [
        "# 03\n",
        "dic = {'year':2020, 'mm':12, 'dd':31, 'day':'Thursday', 'weather':'snow'}"
      ],
      "metadata": {
        "id": "LM8rDMVjtuQo"
      },
      "execution_count": null,
      "outputs": []
    },
    {
      "cell_type": "code",
      "source": [
        "dic.keys()"
      ],
      "metadata": {
        "colab": {
          "base_uri": "https://localhost:8080/"
        },
        "id": "scBjSKJMubBM",
        "outputId": "82b39fa2-8191-4203-ed28-93afb59602c8"
      },
      "execution_count": null,
      "outputs": [
        {
          "output_type": "execute_result",
          "data": {
            "text/plain": [
              "dict_keys(['year', 'mm', 'dd', 'day', 'weather'])"
            ]
          },
          "metadata": {},
          "execution_count": 14
        }
      ]
    },
    {
      "cell_type": "code",
      "source": [
        "dic.values()"
      ],
      "metadata": {
        "colab": {
          "base_uri": "https://localhost:8080/"
        },
        "id": "qITG2ry1udQY",
        "outputId": "e423b27e-a0c1-4c9b-8e24-5cd15747da9e"
      },
      "execution_count": null,
      "outputs": [
        {
          "output_type": "execute_result",
          "data": {
            "text/plain": [
              "dict_values([2020, 12, 31, 'Thursday', 'snow'])"
            ]
          },
          "metadata": {},
          "execution_count": 15
        }
      ]
    },
    {
      "cell_type": "code",
      "source": [
        "# 04\n",
        "\"\"\"\n",
        "1) 문자열은 원소를 변경할 수 없다.\n",
        "2) 딕셔너리는 인덱스를 이용해 슬라이싱을 할 수 있다. -> X 리스트를 슬라이싱 할 수 있는 것\n",
        "3) 튜플은 원소를 변경할 수 없다.\n",
        "4) 집합은 중복 원소를 가질 수 없다.\n",
        "\"\"\""
      ],
      "metadata": {
        "id": "LDW4b5J8tu2G"
      },
      "execution_count": null,
      "outputs": []
    },
    {
      "cell_type": "code",
      "source": [],
      "metadata": {
        "id": "XZ7igsl4ueKc"
      },
      "execution_count": null,
      "outputs": []
    }
  ]
}